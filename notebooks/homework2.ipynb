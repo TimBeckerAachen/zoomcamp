{
 "cells": [
  {
   "cell_type": "code",
   "execution_count": 11,
   "id": "b760be1d",
   "metadata": {},
   "outputs": [],
   "source": [
    "import pandas as pd\n",
    "import numpy as np"
   ]
  },
  {
   "cell_type": "code",
   "execution_count": 2,
   "id": "435c09d8",
   "metadata": {},
   "outputs": [],
   "source": [
    "data = pd.read_csv('../data/data_ex_2.csv')"
   ]
  },
  {
   "cell_type": "code",
   "execution_count": 4,
   "id": "be8e31f9",
   "metadata": {},
   "outputs": [
    {
     "data": {
      "text/html": [
       "<div>\n",
       "<style scoped>\n",
       "    .dataframe tbody tr th:only-of-type {\n",
       "        vertical-align: middle;\n",
       "    }\n",
       "\n",
       "    .dataframe tbody tr th {\n",
       "        vertical-align: top;\n",
       "    }\n",
       "\n",
       "    .dataframe thead th {\n",
       "        text-align: right;\n",
       "    }\n",
       "</style>\n",
       "<table border=\"1\" class=\"dataframe\">\n",
       "  <thead>\n",
       "    <tr style=\"text-align: right;\">\n",
       "      <th></th>\n",
       "      <th>id</th>\n",
       "      <th>host_id</th>\n",
       "      <th>latitude</th>\n",
       "      <th>longitude</th>\n",
       "      <th>price</th>\n",
       "      <th>minimum_nights</th>\n",
       "      <th>number_of_reviews</th>\n",
       "      <th>reviews_per_month</th>\n",
       "      <th>calculated_host_listings_count</th>\n",
       "      <th>availability_365</th>\n",
       "    </tr>\n",
       "  </thead>\n",
       "  <tbody>\n",
       "    <tr>\n",
       "      <th>count</th>\n",
       "      <td>4.889500e+04</td>\n",
       "      <td>4.889500e+04</td>\n",
       "      <td>48895.000000</td>\n",
       "      <td>48895.000000</td>\n",
       "      <td>48895.000000</td>\n",
       "      <td>48895.000000</td>\n",
       "      <td>48895.000000</td>\n",
       "      <td>38843.000000</td>\n",
       "      <td>48895.000000</td>\n",
       "      <td>48895.000000</td>\n",
       "    </tr>\n",
       "    <tr>\n",
       "      <th>mean</th>\n",
       "      <td>1.901714e+07</td>\n",
       "      <td>6.762001e+07</td>\n",
       "      <td>40.728949</td>\n",
       "      <td>-73.952170</td>\n",
       "      <td>152.720687</td>\n",
       "      <td>7.029962</td>\n",
       "      <td>23.274466</td>\n",
       "      <td>1.373221</td>\n",
       "      <td>7.143982</td>\n",
       "      <td>112.781327</td>\n",
       "    </tr>\n",
       "    <tr>\n",
       "      <th>std</th>\n",
       "      <td>1.098311e+07</td>\n",
       "      <td>7.861097e+07</td>\n",
       "      <td>0.054530</td>\n",
       "      <td>0.046157</td>\n",
       "      <td>240.154170</td>\n",
       "      <td>20.510550</td>\n",
       "      <td>44.550582</td>\n",
       "      <td>1.680442</td>\n",
       "      <td>32.952519</td>\n",
       "      <td>131.622289</td>\n",
       "    </tr>\n",
       "    <tr>\n",
       "      <th>min</th>\n",
       "      <td>2.539000e+03</td>\n",
       "      <td>2.438000e+03</td>\n",
       "      <td>40.499790</td>\n",
       "      <td>-74.244420</td>\n",
       "      <td>0.000000</td>\n",
       "      <td>1.000000</td>\n",
       "      <td>0.000000</td>\n",
       "      <td>0.010000</td>\n",
       "      <td>1.000000</td>\n",
       "      <td>0.000000</td>\n",
       "    </tr>\n",
       "    <tr>\n",
       "      <th>25%</th>\n",
       "      <td>9.471945e+06</td>\n",
       "      <td>7.822033e+06</td>\n",
       "      <td>40.690100</td>\n",
       "      <td>-73.983070</td>\n",
       "      <td>69.000000</td>\n",
       "      <td>1.000000</td>\n",
       "      <td>1.000000</td>\n",
       "      <td>0.190000</td>\n",
       "      <td>1.000000</td>\n",
       "      <td>0.000000</td>\n",
       "    </tr>\n",
       "    <tr>\n",
       "      <th>50%</th>\n",
       "      <td>1.967728e+07</td>\n",
       "      <td>3.079382e+07</td>\n",
       "      <td>40.723070</td>\n",
       "      <td>-73.955680</td>\n",
       "      <td>106.000000</td>\n",
       "      <td>3.000000</td>\n",
       "      <td>5.000000</td>\n",
       "      <td>0.720000</td>\n",
       "      <td>1.000000</td>\n",
       "      <td>45.000000</td>\n",
       "    </tr>\n",
       "    <tr>\n",
       "      <th>75%</th>\n",
       "      <td>2.915218e+07</td>\n",
       "      <td>1.074344e+08</td>\n",
       "      <td>40.763115</td>\n",
       "      <td>-73.936275</td>\n",
       "      <td>175.000000</td>\n",
       "      <td>5.000000</td>\n",
       "      <td>24.000000</td>\n",
       "      <td>2.020000</td>\n",
       "      <td>2.000000</td>\n",
       "      <td>227.000000</td>\n",
       "    </tr>\n",
       "    <tr>\n",
       "      <th>max</th>\n",
       "      <td>3.648724e+07</td>\n",
       "      <td>2.743213e+08</td>\n",
       "      <td>40.913060</td>\n",
       "      <td>-73.712990</td>\n",
       "      <td>10000.000000</td>\n",
       "      <td>1250.000000</td>\n",
       "      <td>629.000000</td>\n",
       "      <td>58.500000</td>\n",
       "      <td>327.000000</td>\n",
       "      <td>365.000000</td>\n",
       "    </tr>\n",
       "  </tbody>\n",
       "</table>\n",
       "</div>"
      ],
      "text/plain": [
       "                 id       host_id      latitude     longitude         price  \\\n",
       "count  4.889500e+04  4.889500e+04  48895.000000  48895.000000  48895.000000   \n",
       "mean   1.901714e+07  6.762001e+07     40.728949    -73.952170    152.720687   \n",
       "std    1.098311e+07  7.861097e+07      0.054530      0.046157    240.154170   \n",
       "min    2.539000e+03  2.438000e+03     40.499790    -74.244420      0.000000   \n",
       "25%    9.471945e+06  7.822033e+06     40.690100    -73.983070     69.000000   \n",
       "50%    1.967728e+07  3.079382e+07     40.723070    -73.955680    106.000000   \n",
       "75%    2.915218e+07  1.074344e+08     40.763115    -73.936275    175.000000   \n",
       "max    3.648724e+07  2.743213e+08     40.913060    -73.712990  10000.000000   \n",
       "\n",
       "       minimum_nights  number_of_reviews  reviews_per_month  \\\n",
       "count    48895.000000       48895.000000       38843.000000   \n",
       "mean         7.029962          23.274466           1.373221   \n",
       "std         20.510550          44.550582           1.680442   \n",
       "min          1.000000           0.000000           0.010000   \n",
       "25%          1.000000           1.000000           0.190000   \n",
       "50%          3.000000           5.000000           0.720000   \n",
       "75%          5.000000          24.000000           2.020000   \n",
       "max       1250.000000         629.000000          58.500000   \n",
       "\n",
       "       calculated_host_listings_count  availability_365  \n",
       "count                    48895.000000      48895.000000  \n",
       "mean                         7.143982        112.781327  \n",
       "std                         32.952519        131.622289  \n",
       "min                          1.000000          0.000000  \n",
       "25%                          1.000000          0.000000  \n",
       "50%                          1.000000         45.000000  \n",
       "75%                          2.000000        227.000000  \n",
       "max                        327.000000        365.000000  "
      ]
     },
     "execution_count": 4,
     "metadata": {},
     "output_type": "execute_result"
    }
   ],
   "source": [
    "data.describe()"
   ]
  },
  {
   "cell_type": "code",
   "execution_count": 7,
   "id": "7ee939b5",
   "metadata": {},
   "outputs": [
    {
     "data": {
      "text/plain": [
       "<AxesSubplot:ylabel='Frequency'>"
      ]
     },
     "execution_count": 7,
     "metadata": {},
     "output_type": "execute_result"
    },
    {
     "data": {
      "image/png": "[encoded data removed]",
      "text/plain": [
       "<Figure size 1080x720 with 1 Axes>"
      ]
     },
     "metadata": {
      "needs_background": "light"
     },
     "output_type": "display_data"
    }
   ],
   "source": [
    "data['price'].plot.hist(figsize=(15,10), bins=50)"
   ]
  },
  {
   "cell_type": "code",
   "execution_count": 8,
   "id": "db6c24c0",
   "metadata": {},
   "outputs": [],
   "source": [
    "data = data[['latitude', 'longitude', 'price', 'minimum_nights', 'number_of_reviews', 'reviews_per_month', \n",
    "             'calculated_host_listings_count', 'availability_365']]"
   ]
  },
  {
   "cell_type": "markdown",
   "id": "fa5004e1",
   "metadata": {},
   "source": [
    "# Question 1"
   ]
  },
  {
   "cell_type": "code",
   "execution_count": 9,
   "id": "187f21f6",
   "metadata": {},
   "outputs": [
    {
     "data": {
      "text/plain": [
       "latitude                              0\n",
       "longitude                             0\n",
       "price                                 0\n",
       "minimum_nights                        0\n",
       "number_of_reviews                     0\n",
       "reviews_per_month                 10052\n",
       "calculated_host_listings_count        0\n",
       "availability_365                      0\n",
       "dtype: int64"
      ]
     },
     "execution_count": 9,
     "metadata": {},
     "output_type": "execute_result"
    }
   ],
   "source": [
    "data.isna().sum()"
   ]
  },
  {
   "cell_type": "markdown",
   "id": "8232f4b7",
   "metadata": {},
   "source": [
    "column with missing values: reviews_per_month "
   ]
  },
  {
   "cell_type": "markdown",
   "id": "0d7144f3",
   "metadata": {},
   "source": [
    "# Question 2"
   ]
  },
  {
   "cell_type": "code",
   "execution_count": 10,
   "id": "31448508",
   "metadata": {},
   "outputs": [
    {
     "data": {
      "text/plain": [
       "3.0"
      ]
     },
     "execution_count": 10,
     "metadata": {},
     "output_type": "execute_result"
    }
   ],
   "source": [
    "data['minimum_nights'].median()"
   ]
  },
  {
   "cell_type": "code",
   "execution_count": 47,
   "id": "a75c835e",
   "metadata": {},
   "outputs": [],
   "source": [
    "np.random.seed(42)\n",
    "idx = np.random.permutation(data.index.values)"
   ]
  },
  {
   "cell_type": "code",
   "execution_count": 48,
   "id": "e0c53221",
   "metadata": {},
   "outputs": [
    {
     "data": {
      "text/html": [
       "<div>\n",
       "<style scoped>\n",
       "    .dataframe tbody tr th:only-of-type {\n",
       "        vertical-align: middle;\n",
       "    }\n",
       "\n",
       "    .dataframe tbody tr th {\n",
       "        vertical-align: top;\n",
       "    }\n",
       "\n",
       "    .dataframe thead th {\n",
       "        text-align: right;\n",
       "    }\n",
       "</style>\n",
       "<table border=\"1\" class=\"dataframe\">\n",
       "  <thead>\n",
       "    <tr style=\"text-align: right;\">\n",
       "      <th></th>\n",
       "      <th>latitude</th>\n",
       "      <th>longitude</th>\n",
       "      <th>price</th>\n",
       "      <th>minimum_nights</th>\n",
       "      <th>number_of_reviews</th>\n",
       "      <th>reviews_per_month</th>\n",
       "      <th>calculated_host_listings_count</th>\n",
       "      <th>availability_365</th>\n",
       "    </tr>\n",
       "  </thead>\n",
       "  <tbody>\n",
       "    <tr>\n",
       "      <th>38461</th>\n",
       "      <td>40.80317</td>\n",
       "      <td>-73.96338</td>\n",
       "      <td>50</td>\n",
       "      <td>20</td>\n",
       "      <td>0</td>\n",
       "      <td>NaN</td>\n",
       "      <td>1</td>\n",
       "      <td>0</td>\n",
       "    </tr>\n",
       "    <tr>\n",
       "      <th>40490</th>\n",
       "      <td>40.77506</td>\n",
       "      <td>-73.95335</td>\n",
       "      <td>80</td>\n",
       "      <td>1</td>\n",
       "      <td>1</td>\n",
       "      <td>0.06</td>\n",
       "      <td>1</td>\n",
       "      <td>170</td>\n",
       "    </tr>\n",
       "    <tr>\n",
       "      <th>46939</th>\n",
       "      <td>40.72468</td>\n",
       "      <td>-73.94042</td>\n",
       "      <td>200</td>\n",
       "      <td>2</td>\n",
       "      <td>1</td>\n",
       "      <td>1.00</td>\n",
       "      <td>1</td>\n",
       "      <td>0</td>\n",
       "    </tr>\n",
       "    <tr>\n",
       "      <th>45969</th>\n",
       "      <td>40.83591</td>\n",
       "      <td>-73.94586</td>\n",
       "      <td>180</td>\n",
       "      <td>5</td>\n",
       "      <td>0</td>\n",
       "      <td>NaN</td>\n",
       "      <td>1</td>\n",
       "      <td>83</td>\n",
       "    </tr>\n",
       "    <tr>\n",
       "      <th>16928</th>\n",
       "      <td>40.68803</td>\n",
       "      <td>-73.99182</td>\n",
       "      <td>150</td>\n",
       "      <td>1</td>\n",
       "      <td>19</td>\n",
       "      <td>0.28</td>\n",
       "      <td>1</td>\n",
       "      <td>0</td>\n",
       "    </tr>\n",
       "  </tbody>\n",
       "</table>\n",
       "</div>"
      ],
      "text/plain": [
       "       latitude  longitude  price  minimum_nights  number_of_reviews  \\\n",
       "38461  40.80317  -73.96338     50              20                  0   \n",
       "40490  40.77506  -73.95335     80               1                  1   \n",
       "46939  40.72468  -73.94042    200               2                  1   \n",
       "45969  40.83591  -73.94586    180               5                  0   \n",
       "16928  40.68803  -73.99182    150               1                 19   \n",
       "\n",
       "       reviews_per_month  calculated_host_listings_count  availability_365  \n",
       "38461                NaN                               1                 0  \n",
       "40490               0.06                               1               170  \n",
       "46939               1.00                               1                 0  \n",
       "45969                NaN                               1                83  \n",
       "16928               0.28                               1                 0  "
      ]
     },
     "execution_count": 48,
     "metadata": {},
     "output_type": "execute_result"
    }
   ],
   "source": [
    "data.iloc[idx].head()"
   ]
  },
  {
   "cell_type": "code",
   "execution_count": 49,
   "id": "642679ea",
   "metadata": {},
   "outputs": [],
   "source": [
    "train_idx = int(len(idx) * 0.6)\n",
    "val_idx = int(len(idx) * 0.8)"
   ]
  },
  {
   "cell_type": "code",
   "execution_count": 52,
   "id": "c43af455",
   "metadata": {},
   "outputs": [],
   "source": [
    "X_train = data.iloc[idx[:train_idx]]\n",
    "X_val = data.iloc[idx[train_idx:val_idx]]\n",
    "X_test = data.iloc[idx[val_idx:]]"
   ]
  },
  {
   "cell_type": "code",
   "execution_count": 53,
   "id": "47b566e5",
   "metadata": {},
   "outputs": [],
   "source": [
    "y_train = np.log1p(X_train.pop('price'))\n",
    "y_val = np.log1p(X_val.pop('price'))\n",
    "y_test = np.log1p(X_test.pop('price'))"
   ]
  },
  {
   "cell_type": "code",
   "execution_count": 107,
   "id": "289f26bf",
   "metadata": {},
   "outputs": [],
   "source": [
    "# as in lecture\n",
    "n = len(data)\n",
    "\n",
    "n_val = int(n * 0.2)\n",
    "n_test = int(n * 0.2)\n",
    "n_train = n - n_val - n_test\n",
    "\n",
    "idx = np.arange(n)\n",
    "np.random.seed(42)\n",
    "np.random.shuffle(idx)\n",
    "\n",
    "df_train = data.iloc[idx[:n_train]]\n",
    "df_val = data.iloc[idx[n_train:n_train+n_val]]\n",
    "df_test = data.iloc[idx[n_train+n_val:]]\n",
    "\n",
    "y_train = np.log1p(df_train.pop('price'))\n",
    "y_val = np.log1p(df_val.pop('price'))\n",
    "y_test = np.log1p(df_test.pop('price'))"
   ]
  },
  {
   "cell_type": "code",
   "execution_count": 111,
   "id": "581c3240",
   "metadata": {},
   "outputs": [
    {
     "data": {
      "text/html": [
       "<div>\n",
       "<style scoped>\n",
       "    .dataframe tbody tr th:only-of-type {\n",
       "        vertical-align: middle;\n",
       "    }\n",
       "\n",
       "    .dataframe tbody tr th {\n",
       "        vertical-align: top;\n",
       "    }\n",
       "\n",
       "    .dataframe thead th {\n",
       "        text-align: right;\n",
       "    }\n",
       "</style>\n",
       "<table border=\"1\" class=\"dataframe\">\n",
       "  <thead>\n",
       "    <tr style=\"text-align: right;\">\n",
       "      <th></th>\n",
       "      <th>latitude</th>\n",
       "      <th>longitude</th>\n",
       "      <th>minimum_nights</th>\n",
       "      <th>number_of_reviews</th>\n",
       "      <th>reviews_per_month</th>\n",
       "      <th>calculated_host_listings_count</th>\n",
       "      <th>availability_365</th>\n",
       "    </tr>\n",
       "  </thead>\n",
       "  <tbody>\n",
       "    <tr>\n",
       "      <th>7642</th>\n",
       "      <td>40.64354</td>\n",
       "      <td>-73.97777</td>\n",
       "      <td>3</td>\n",
       "      <td>62</td>\n",
       "      <td>0.71</td>\n",
       "      <td>1</td>\n",
       "      <td>189</td>\n",
       "    </tr>\n",
       "    <tr>\n",
       "      <th>30129</th>\n",
       "      <td>40.70666</td>\n",
       "      <td>-73.90779</td>\n",
       "      <td>21</td>\n",
       "      <td>0</td>\n",
       "      <td>NaN</td>\n",
       "      <td>1</td>\n",
       "      <td>73</td>\n",
       "    </tr>\n",
       "    <tr>\n",
       "      <th>44288</th>\n",
       "      <td>40.76116</td>\n",
       "      <td>-73.99016</td>\n",
       "      <td>2</td>\n",
       "      <td>17</td>\n",
       "      <td>0.43</td>\n",
       "      <td>1</td>\n",
       "      <td>0</td>\n",
       "    </tr>\n",
       "    <tr>\n",
       "      <th>43502</th>\n",
       "      <td>40.70763</td>\n",
       "      <td>-74.01050</td>\n",
       "      <td>2</td>\n",
       "      <td>5</td>\n",
       "      <td>1.88</td>\n",
       "      <td>327</td>\n",
       "      <td>272</td>\n",
       "    </tr>\n",
       "    <tr>\n",
       "      <th>3518</th>\n",
       "      <td>40.79658</td>\n",
       "      <td>-73.93287</td>\n",
       "      <td>2</td>\n",
       "      <td>30</td>\n",
       "      <td>0.80</td>\n",
       "      <td>1</td>\n",
       "      <td>30</td>\n",
       "    </tr>\n",
       "  </tbody>\n",
       "</table>\n",
       "</div>"
      ],
      "text/plain": [
       "       latitude  longitude  minimum_nights  number_of_reviews  \\\n",
       "7642   40.64354  -73.97777               3                 62   \n",
       "30129  40.70666  -73.90779              21                  0   \n",
       "44288  40.76116  -73.99016               2                 17   \n",
       "43502  40.70763  -74.01050               2                  5   \n",
       "3518   40.79658  -73.93287               2                 30   \n",
       "\n",
       "       reviews_per_month  calculated_host_listings_count  availability_365  \n",
       "7642                0.71                               1               189  \n",
       "30129                NaN                               1                73  \n",
       "44288               0.43                               1                 0  \n",
       "43502               1.88                             327               272  \n",
       "3518                0.80                               1                30  "
      ]
     },
     "execution_count": 111,
     "metadata": {},
     "output_type": "execute_result"
    }
   ],
   "source": [
    "df_train.head()"
   ]
  },
  {
   "cell_type": "markdown",
   "id": "be051641",
   "metadata": {},
   "source": [
    "# Question 3"
   ]
  },
  {
   "cell_type": "code",
   "execution_count": 55,
   "id": "b5c7e5c5",
   "metadata": {
    "scrolled": true
   },
   "outputs": [
    {
     "data": {
      "text/html": [
       "<div>\n",
       "<style scoped>\n",
       "    .dataframe tbody tr th:only-of-type {\n",
       "        vertical-align: middle;\n",
       "    }\n",
       "\n",
       "    .dataframe tbody tr th {\n",
       "        vertical-align: top;\n",
       "    }\n",
       "\n",
       "    .dataframe thead th {\n",
       "        text-align: right;\n",
       "    }\n",
       "</style>\n",
       "<table border=\"1\" class=\"dataframe\">\n",
       "  <thead>\n",
       "    <tr style=\"text-align: right;\">\n",
       "      <th></th>\n",
       "      <th>latitude</th>\n",
       "      <th>longitude</th>\n",
       "      <th>minimum_nights</th>\n",
       "      <th>number_of_reviews</th>\n",
       "      <th>reviews_per_month</th>\n",
       "      <th>calculated_host_listings_count</th>\n",
       "      <th>availability_365</th>\n",
       "    </tr>\n",
       "  </thead>\n",
       "  <tbody>\n",
       "    <tr>\n",
       "      <th>38461</th>\n",
       "      <td>40.80317</td>\n",
       "      <td>-73.96338</td>\n",
       "      <td>20</td>\n",
       "      <td>0</td>\n",
       "      <td>NaN</td>\n",
       "      <td>1</td>\n",
       "      <td>0</td>\n",
       "    </tr>\n",
       "    <tr>\n",
       "      <th>40490</th>\n",
       "      <td>40.77506</td>\n",
       "      <td>-73.95335</td>\n",
       "      <td>1</td>\n",
       "      <td>1</td>\n",
       "      <td>0.06</td>\n",
       "      <td>1</td>\n",
       "      <td>170</td>\n",
       "    </tr>\n",
       "    <tr>\n",
       "      <th>46939</th>\n",
       "      <td>40.72468</td>\n",
       "      <td>-73.94042</td>\n",
       "      <td>2</td>\n",
       "      <td>1</td>\n",
       "      <td>1.00</td>\n",
       "      <td>1</td>\n",
       "      <td>0</td>\n",
       "    </tr>\n",
       "    <tr>\n",
       "      <th>45969</th>\n",
       "      <td>40.83591</td>\n",
       "      <td>-73.94586</td>\n",
       "      <td>5</td>\n",
       "      <td>0</td>\n",
       "      <td>NaN</td>\n",
       "      <td>1</td>\n",
       "      <td>83</td>\n",
       "    </tr>\n",
       "    <tr>\n",
       "      <th>16928</th>\n",
       "      <td>40.68803</td>\n",
       "      <td>-73.99182</td>\n",
       "      <td>1</td>\n",
       "      <td>19</td>\n",
       "      <td>0.28</td>\n",
       "      <td>1</td>\n",
       "      <td>0</td>\n",
       "    </tr>\n",
       "  </tbody>\n",
       "</table>\n",
       "</div>"
      ],
      "text/plain": [
       "       latitude  longitude  minimum_nights  number_of_reviews  \\\n",
       "38461  40.80317  -73.96338              20                  0   \n",
       "40490  40.77506  -73.95335               1                  1   \n",
       "46939  40.72468  -73.94042               2                  1   \n",
       "45969  40.83591  -73.94586               5                  0   \n",
       "16928  40.68803  -73.99182               1                 19   \n",
       "\n",
       "       reviews_per_month  calculated_host_listings_count  availability_365  \n",
       "38461                NaN                               1                 0  \n",
       "40490               0.06                               1               170  \n",
       "46939               1.00                               1                 0  \n",
       "45969                NaN                               1                83  \n",
       "16928               0.28                               1                 0  "
      ]
     },
     "execution_count": 55,
     "metadata": {},
     "output_type": "execute_result"
    }
   ],
   "source": [
    "X_train.head()"
   ]
  },
  {
   "cell_type": "code",
   "execution_count": 56,
   "id": "57925bee",
   "metadata": {},
   "outputs": [],
   "source": [
    "mean_reviews_per_month = X_train['reviews_per_month'].mean()"
   ]
  },
  {
   "cell_type": "code",
   "execution_count": 57,
   "id": "b40b7cd9",
   "metadata": {},
   "outputs": [],
   "source": [
    "def prepare_X(df, fill_value=0):\n",
    "    df = df.copy()\n",
    "    \n",
    "    df = df.fillna(fill_value)\n",
    "        \n",
    "    X = df.values\n",
    "    return X"
   ]
  },
  {
   "cell_type": "code",
   "execution_count": 58,
   "id": "9e7aae41",
   "metadata": {},
   "outputs": [],
   "source": [
    "def train_linear_regression(X, y):\n",
    "    ones = np.ones(X.shape[0])\n",
    "    X = np.column_stack([ones, X])\n",
    "\n",
    "    XTX = X.T.dot(X)\n",
    "    XTX_inv = np.linalg.inv(XTX)\n",
    "    w_full = XTX_inv.dot(X.T).dot(y)\n",
    "    \n",
    "    return w_full[0], w_full[1:]"
   ]
  },
  {
   "cell_type": "code",
   "execution_count": 59,
   "id": "0479f438",
   "metadata": {},
   "outputs": [],
   "source": [
    "def rmse(y, y_pred):\n",
    "    se = (y - y_pred) ** 2\n",
    "    mse = se.mean()\n",
    "    return np.sqrt(mse)"
   ]
  },
  {
   "cell_type": "code",
   "execution_count": 72,
   "id": "dd60911e",
   "metadata": {},
   "outputs": [],
   "source": [
    "def eval_model(X_val, y_val, w, w0, fill_value):\n",
    "    X = prepare_X(X_val, fill_value)\n",
    "    y_pred = w0 + X.dot(w)\n",
    "    return rmse(y_val, y_pred)"
   ]
  },
  {
   "cell_type": "code",
   "execution_count": 73,
   "id": "34f0c439",
   "metadata": {},
   "outputs": [
    {
     "data": {
      "text/plain": [
       "0.6480364067538715"
      ]
     },
     "execution_count": 73,
     "metadata": {},
     "output_type": "execute_result"
    }
   ],
   "source": [
    "X = prepare_X(X_train, mean_reviews_per_month)\n",
    "w0, w = train_linear_regression(X, y_train)\n",
    "\n",
    "eval_model(X_val, y_val, w, w0, mean_reviews_per_month)"
   ]
  },
  {
   "cell_type": "code",
   "execution_count": 74,
   "id": "30fd77f8",
   "metadata": {},
   "outputs": [
    {
     "data": {
      "text/plain": [
       "0.6481479685345387"
      ]
     },
     "execution_count": 74,
     "metadata": {},
     "output_type": "execute_result"
    }
   ],
   "source": [
    "X = prepare_X(X_train, 0)\n",
    "w0, w = train_linear_regression(X, y_train)\n",
    "\n",
    "eval_model(X_val, y_val, w, w0, 0)"
   ]
  },
  {
   "cell_type": "code",
   "execution_count": 113,
   "id": "d2b371f0",
   "metadata": {},
   "outputs": [
    {
     "data": {
      "text/plain": [
       "0.6427547486307802"
      ]
     },
     "execution_count": 113,
     "metadata": {},
     "output_type": "execute_result"
    }
   ],
   "source": [
    "# as in lecture\n",
    "X = prepare_X(df_train, mean_reviews_per_month)\n",
    "w0, w = train_linear_regression(X, y_train)\n",
    "\n",
    "eval_model(df_val, y_val, w, w0, mean_reviews_per_month)"
   ]
  },
  {
   "cell_type": "code",
   "execution_count": 114,
   "id": "31378ed6",
   "metadata": {},
   "outputs": [
    {
     "data": {
      "text/plain": [
       "0.6430337788516728"
      ]
     },
     "execution_count": 114,
     "metadata": {},
     "output_type": "execute_result"
    }
   ],
   "source": [
    "# as in lecture\n",
    "X = prepare_X(df_train, 0)\n",
    "w0, w = train_linear_regression(X, y_train)\n",
    "\n",
    "eval_model(df_val, y_val, w, w0, 0)"
   ]
  },
  {
   "cell_type": "markdown",
   "id": "aa3aefc0",
   "metadata": {},
   "source": [
    "# Question 4"
   ]
  },
  {
   "cell_type": "code",
   "execution_count": 75,
   "id": "0b776d77",
   "metadata": {},
   "outputs": [],
   "source": [
    "def train_linear_regression_reg(X, y, r=0.001):\n",
    "    ones = np.ones(X.shape[0])\n",
    "    X = np.column_stack([ones, X])\n",
    "\n",
    "    XTX = X.T.dot(X)\n",
    "    XTX = XTX + r * np.eye(XTX.shape[0])\n",
    "\n",
    "    XTX_inv = np.linalg.inv(XTX)\n",
    "    w_full = XTX_inv.dot(X.T).dot(y)\n",
    "    \n",
    "    return w_full[0], w_full[1:]"
   ]
  },
  {
   "cell_type": "code",
   "execution_count": 76,
   "id": "be738614",
   "metadata": {},
   "outputs": [
    {
     "name": "stdout",
     "output_type": "stream",
     "text": [
      "0 \t 0.65\n",
      "1e-06 \t 0.65\n",
      "0.0001 \t 0.65\n",
      "0.001 \t 0.65\n",
      "0.01 \t 0.66\n",
      "0.1 \t 0.68\n",
      "1 \t 0.69\n",
      "5 \t 0.69\n",
      "10 \t 0.69\n"
     ]
    }
   ],
   "source": [
    "for r in [0, 0.000001, 0.0001, 0.001, 0.01, 0.1, 1, 5, 10]:\n",
    "    X = prepare_X(X_train, 0)\n",
    "    w0, w = train_linear_regression_reg(X, y_train, r=r)\n",
    "\n",
    "    score = eval_model(X_val, y_val, w, w0, 0)\n",
    "    \n",
    "    print(r, '\\t', round(score, 2))"
   ]
  },
  {
   "cell_type": "code",
   "execution_count": 120,
   "id": "7315f2da",
   "metadata": {},
   "outputs": [
    {
     "name": "stdout",
     "output_type": "stream",
     "text": [
      "0 \t 0.69207\n",
      "1e-06 \t 0.69207\n",
      "0.0001 \t 0.69207\n",
      "0.001 \t 0.69208\n",
      "0.01 \t 0.69209\n",
      "0.1 \t 0.69211\n",
      "1 \t 0.69211\n",
      "5 \t 0.69211\n",
      "10 \t 0.69211\n"
     ]
    }
   ],
   "source": [
    "# as in lecture\n",
    "for r in [0, 0.000001, 0.0001, 0.001, 0.01, 0.1, 1, 5, 10]:\n",
    "    X = prepare_X(df_train, 0)\n",
    "    w0, w = train_linear_regression_reg(X, y_train, r=r)\n",
    "\n",
    "    score = eval_model(df_val, y_val, w, w0, 0)\n",
    "    \n",
    "    print(r, '\\t', round(score, 5))"
   ]
  },
  {
   "cell_type": "markdown",
   "id": "28947b12",
   "metadata": {},
   "source": [
    "# Question 5"
   ]
  },
  {
   "cell_type": "code",
   "execution_count": 83,
   "id": "4ed3afd7",
   "metadata": {},
   "outputs": [],
   "source": [
    "def split_data(data, seed):\n",
    "    np.random.seed(seed)\n",
    "    idx = np.random.permutation(data.index.values)\n",
    "    \n",
    "    X_train = data.iloc[idx[:train_idx]]\n",
    "    X_val = data.iloc[idx[train_idx:val_idx]]\n",
    "    X_test = data.iloc[idx[val_idx:]]\n",
    "    \n",
    "    y_train = np.log1p(X_train.pop('price'))\n",
    "    y_val = np.log1p(X_val.pop('price'))\n",
    "    y_test = np.log1p(X_test.pop('price'))\n",
    "    return X_train, X_val, X_test, y_train, y_val, y_test\n",
    "    "
   ]
  },
  {
   "cell_type": "code",
   "execution_count": 85,
   "id": "e75033e1",
   "metadata": {
    "scrolled": true
   },
   "outputs": [
    {
     "name": "stdout",
     "output_type": "stream",
     "text": [
      "Int64Index([47436], dtype='int64')\n",
      "0 \t 0.641\n",
      "Int64Index([19157], dtype='int64')\n",
      "1 \t 0.653\n",
      "Int64Index([21453], dtype='int64')\n",
      "2 \t 0.642\n",
      "Int64Index([10594], dtype='int64')\n",
      "3 \t 0.651\n",
      "Int64Index([14300], dtype='int64')\n",
      "4 \t 0.647\n",
      "Int64Index([45776], dtype='int64')\n",
      "5 \t 0.657\n",
      "Int64Index([1966], dtype='int64')\n",
      "6 \t 0.645\n",
      "Int64Index([17126], dtype='int64')\n",
      "7 \t 0.645\n",
      "Int64Index([6694], dtype='int64')\n",
      "8 \t 0.647\n",
      "Int64Index([25499], dtype='int64')\n",
      "9 \t 0.653\n"
     ]
    }
   ],
   "source": [
    "scores = []\n",
    "for seed in [0, 1, 2, 3, 4, 5, 6, 7, 8, 9]:\n",
    "    X_train, X_val, X_test, y_train, y_val, y_test = split_data(data, seed)\n",
    "    \n",
    "    print(X_train.head(1).index)\n",
    "    X = prepare_X(X_train, 0)\n",
    "    w0, w = train_linear_regression_reg(X, y_train, r=0)\n",
    "\n",
    "    score = eval_model(X_val, y_val, w, w0, 0)\n",
    "    scores.append(score)\n",
    "    \n",
    "    print(seed, '\\t', round(score, 3))"
   ]
  },
  {
   "cell_type": "code",
   "execution_count": 87,
   "id": "56127659",
   "metadata": {},
   "outputs": [
    {
     "data": {
      "text/plain": [
       "0.005"
      ]
     },
     "execution_count": 87,
     "metadata": {},
     "output_type": "execute_result"
    }
   ],
   "source": [
    "round(np.std(scores), 3)"
   ]
  },
  {
   "cell_type": "code",
   "execution_count": 118,
   "id": "434b3c15",
   "metadata": {},
   "outputs": [
    {
     "name": "stdout",
     "output_type": "stream",
     "text": [
      "Int64Index([25499], dtype='int64')\n",
      "0 \t 0.703\n",
      "Int64Index([25499], dtype='int64')\n",
      "1 \t 0.697\n",
      "Int64Index([25499], dtype='int64')\n",
      "2 \t 0.692\n",
      "Int64Index([25499], dtype='int64')\n",
      "3 \t 0.687\n",
      "Int64Index([25499], dtype='int64')\n",
      "4 \t 0.695\n",
      "Int64Index([25499], dtype='int64')\n",
      "5 \t 0.681\n",
      "Int64Index([25499], dtype='int64')\n",
      "6 \t 0.68\n",
      "Int64Index([25499], dtype='int64')\n",
      "7 \t 0.701\n",
      "Int64Index([25499], dtype='int64')\n",
      "8 \t 0.7\n",
      "Int64Index([25499], dtype='int64')\n",
      "9 \t 0.692\n"
     ]
    },
    {
     "data": {
      "text/plain": [
       "0.008"
      ]
     },
     "execution_count": 118,
     "metadata": {},
     "output_type": "execute_result"
    }
   ],
   "source": [
    "# as in lecture\n",
    "def split_data(data, seed):\n",
    "    np.random.seed(seed)\n",
    "    n = len(data)\n",
    "    n_val = int(n * 0.2)\n",
    "    n_test = int(n * 0.2)\n",
    "    n_train = n - n_val - n_test\n",
    "\n",
    "    idx = np.arange(n)\n",
    "    np.random.shuffle(idx)\n",
    "\n",
    "    df_train = data.iloc[idx[:n_train]]\n",
    "    df_val = data.iloc[idx[n_train:n_train+n_val]]\n",
    "    df_test = data.iloc[idx[n_train+n_val:]]\n",
    "\n",
    "    y_train = np.log1p(df_train.pop('price'))\n",
    "    y_val = np.log1p(df_val.pop('price'))\n",
    "    y_test = np.log1p(df_test.pop('price'))\n",
    "    return X_train, X_val, X_test, y_train, y_val, y_test\n",
    "\n",
    "scores = []\n",
    "for seed in [0, 1, 2, 3, 4, 5, 6, 7, 8, 9]:\n",
    "    X_train, X_val, X_test, y_train, y_val, y_test = split_data(data, seed)\n",
    "    \n",
    "    print(X_train.head(1).index)\n",
    "    X = prepare_X(X_train, 0)\n",
    "    w0, w = train_linear_regression_reg(X, y_train, r=0)\n",
    "\n",
    "    score = eval_model(X_val, y_val, w, w0, 0)\n",
    "    scores.append(score)\n",
    "    \n",
    "    print(seed, '\\t', round(score, 3))\n",
    "\n",
    "round(np.std(scores), 3)"
   ]
  },
  {
   "cell_type": "markdown",
   "id": "0843166d",
   "metadata": {},
   "source": [
    "# Question 6"
   ]
  },
  {
   "cell_type": "code",
   "execution_count": 88,
   "id": "c63cc438",
   "metadata": {},
   "outputs": [
    {
     "data": {
      "text/plain": [
       "0.636551784697298"
      ]
     },
     "execution_count": 88,
     "metadata": {},
     "output_type": "execute_result"
    }
   ],
   "source": [
    "X_train, X_val, X_test, y_train, y_val, y_test = split_data(data, 9)\n",
    "\n",
    "X = prepare_X(pd.concat([X_train, X_val]), 0)\n",
    "w0, w = train_linear_regression_reg(X, pd.concat([y_train, y_val]), r=0.001)\n",
    "\n",
    "score = eval_model(X_test, y_test, w, w0, 0)\n",
    "\n",
    "score"
   ]
  },
  {
   "cell_type": "code",
   "execution_count": 119,
   "id": "e76cb89c",
   "metadata": {},
   "outputs": [
    {
     "data": {
      "text/plain": [
       "0.6980261452707163"
      ]
     },
     "execution_count": 119,
     "metadata": {},
     "output_type": "execute_result"
    }
   ],
   "source": [
    "X_train, X_val, X_test, y_train, y_val, y_test = split_data(data, 9)\n",
    "\n",
    "X = prepare_X(pd.concat([X_train, X_val]), 0)\n",
    "w0, w = train_linear_regression_reg(X, pd.concat([y_train, y_val]), r=0.001)\n",
    "\n",
    "score = eval_model(X_test, y_test, w, w0, 0)\n",
    "\n",
    "score"
   ]
  },
  {
   "cell_type": "code",
   "execution_count": null,
   "id": "f13176b8",
   "metadata": {},
   "outputs": [],
   "source": []
  }
 ],
 "metadata": {
  "kernelspec": {
   "display_name": "zoomcamp",
   "language": "python",
   "name": "zoomcamp"
  },
  "language_info": {
   "codemirror_mode": {
    "name": "ipython",
    "version": 3
   },
   "file_extension": ".py",
   "mimetype": "text/x-python",
   "name": "python",
   "nbconvert_exporter": "python",
   "pygments_lexer": "ipython3",
   "version": "3.9.6"
  }
 },
 "nbformat": 4,
 "nbformat_minor": 5
}
